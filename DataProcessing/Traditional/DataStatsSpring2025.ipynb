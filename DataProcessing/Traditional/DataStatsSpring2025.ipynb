{
 "cells": [
  {
   "cell_type": "code",
   "execution_count": 1,
   "id": "e8749df8",
   "metadata": {},
   "outputs": [],
   "source": [
    "import os \n",
    "import pandas as pd\n",
    "import matplotlib.pyplot as plt\n",
    "import numpy as np \n",
    "import math\n",
    "\n",
    "plt.rcParams.update({\n",
    "    \"figure.facecolor\": (1,1,1,1),\n",
    "    \"axes.facecolor\": (1,1,1,1),\n",
    "    \"savefig.facecolor\": (1,1,1,1)\n",
    "})\n",
    "\n",
    "from matplotlib.ticker import ScalarFormatter\n",
    "import datetime"
   ]
  },
  {
   "cell_type": "code",
   "execution_count": 17,
   "id": "61a8f47d",
   "metadata": {},
   "outputs": [
    {
     "name": "stdout",
     "output_type": "stream",
     "text": [
      "Spring 2025 Data Points: 623734\n",
      "Fall 2024 Data Points: 229170\n",
      "Index(['Millis', 'PCF8523 Year', 'PCF8523 Month', 'PCF8523 Day',\n",
      "       'PCF8523 Hour', 'PCF8523 Minute', 'PCF8523 Second',\n",
      "       'INA260 Current (mA)', 'INA260 Voltage (mV)', 'INA260 Power (mW)',\n",
      "       'PicoTemp Temp (C)', 'ICM20948 AccX (g)', 'ICM20948 AccY (g)',\n",
      "       'ICM20948 AccZ (g)', 'ICM20948 GyroX (deg/s)', 'ICM20948 GyroY (deg/s)',\n",
      "       'ICM20948 GyroZ (deg/s)', 'ICM20948 MagX (uT)', 'ICM20948 MagY (uT)',\n",
      "       'ICM20948 MagZ (uT)', 'ICM20948 Temp (C)', 'MTK3339 Year',\n",
      "       'MTK3339 Month', 'MTK3339 Day', 'MTK3339 Hour', 'MTK3339 Minute',\n",
      "       'MTK3339 Second', 'MTK3339 Latitude', 'MTK3339 Longitude',\n",
      "       'MTK3339 Speed', 'MTK3339 Heading', 'MTK3339 Altitude',\n",
      "       'MTK3339 Satellites', 'BMP390 Temp (C)', 'BMP390 Pressure (Pa)',\n",
      "       'BMP390 Altitude (m)', 'TMP117 Temp (C)', 'SHTC3 Temp (C)',\n",
      "       'SHTC3 Rel Hum (%)', 'SCD40 CO2 Conc (ppm)', 'SCD40 Temp (C)',\n",
      "       'SCD40 Rel Hum (%)', 'ENS160 AQI', 'ENS160 TVOC (ppb)',\n",
      "       'ENS160 eCO2 (ppm)', 'Ozone Conc (ppb)', 'UV Sensor UVA2 (nm)',\n",
      "       'UV Sensor UVB2 (nm)', 'UV Sensor UVC2 (nm)',\n",
      "       'SCD40_O CO2 Conc_O (ppm)', 'SCD40_O Temp_O (C)',\n",
      "       'SCD40_O Rel Hum_O (%)', 'TMP117_O Temp_O (C)', 'SHTC3_O Temp_O (C)',\n",
      "       'SHTC3_O Rel_Hum_O (%)', 'ENS160_O AQI_O', 'ENS160_O TVOC_O (ppb)',\n",
      "       'ENS160_O eCO2_O (ppm)'],\n",
      "      dtype='object')\n"
     ]
    },
    {
     "data": {
      "image/png": "[encoded data removed]",
      "text/plain": [
       "<Figure size 432x288 with 1 Axes>"
      ]
     },
     "metadata": {
      "needs_background": "light"
     },
     "output_type": "display_data"
    }
   ],
   "source": [
    "flash_df = pd.read_csv(os.path.join(\"..\",\"Spring2025Data\",\"ASCEND_flash_data_file_4_04_03_20_02_43.csv\"))\n",
    "\n",
    "custom_na = pd._libs.parsers.STR_NA_VALUES\n",
    "custom_na.add(\"-\")\n",
    "old_flash_df = pd.read_csv(os.path.join(\"..\", \"Fall2024Data\", \"ASCEND_DATA_2024_11_25_19_13_57.csv\"), na_values=custom_na)\n",
    "\n",
    "points_flash_df = sum(flash_df.count())\n",
    "old_points_flash_df = sum(old_flash_df.count())\n",
    "\n",
    "print(\"Spring 2025 Data Points:\", points_flash_df)\n",
    "print(\"Fall 2024 Data Points:\", old_points_flash_df)\n",
    "\n",
    "flash_df[\"ENS160_O AQI_O\"]\n",
    "\n",
    "print(flash_df.columns)\n",
    "\n",
    "plt.plot(flash_df[\"Millis\"], flash_df[\"ENS160_O TVOC_O (ppb)\"])\n",
    "\n",
    "plt.show()"
   ]
  },
  {
   "cell_type": "code",
   "execution_count": 3,
   "id": "323de3b1",
   "metadata": {},
   "outputs": [
    {
     "name": "stdout",
     "output_type": "stream",
     "text": [
      "Data Collection Stats:\n",
      "Recorded 18683 rows over 311.35 minutes\n",
      "58 columns per row\n",
      "623734 data points\n",
      "\n",
      "Overall Sample Period: 0.9999 seconds\n",
      "Overall Sample Frequency: 1.0001 Hz\n",
      "\n",
      "Analyzing Data.................................................Done.\n"
     ]
    }
   ],
   "source": [
    "from tabulate import tabulate\n",
    "from IPython.display import HTML, display\n",
    "\n",
    "# datarate \n",
    "row_count = len(flash_df[\"Millis\"])\n",
    "millis_dur = flash_df[\"Millis\"][row_count-1] - flash_df[\"Millis\"][0]\n",
    "sample_period = round((millis_dur/1000) / row_count, 4)\n",
    "\n",
    "ignores = [] #[\"Receive time\", \"Header\"]\n",
    "sample_counts = list(flash_df.count())\n",
    "\n",
    "print(\"Data Collection Stats:\")\n",
    "print(\"Recorded\", len(flash_df[\"Millis\"]), \"rows\", end=\" \")\n",
    "print(\"over\", round(millis_dur / 1000 / 60, 2), \"minutes\")\n",
    "print(len(flash_df.columns), \"columns per row\")\n",
    "print(sum(sample_counts), \"data points\")\n",
    "print()\n",
    "print(\"Overall Sample Period:\", sample_period, \"seconds\")\n",
    "print(\"Overall Sample Frequency:\", round(1/sample_period, 4), \"Hz\")\n",
    "print()\n",
    "\n",
    "table_list = [[\"Data Name\", \"Number of Samples\", \"Average Sample Frequency (Hz)\", \"Average Sample Period (s)\", \"Best Sample Period (s)\", \"Worst Sample Period (s)\"]]\n",
    "\n",
    "print(\"Analyzing Data\", end=\"\")\n",
    "for i, col in enumerate(list(flash_df.columns)):\n",
    "    if sample_counts[i] == 0 or (col in ignores): continue\n",
    "    best_period = 10000\n",
    "    worst_period = 0\n",
    "    # find them\n",
    "    last_found = -1\n",
    "    print(\".\", end=\"\")\n",
    "    for r, val in enumerate(flash_df[col]):\n",
    "        if str(val) != \"nan\":\n",
    "            if last_found != -1:\n",
    "                this_period = flash_df[\"Millis\"][r] - last_found\n",
    "#                 if(best_period != min(best_period, this_period)): print(original_flash_df[\"Millis\"][r], best_period)\n",
    "                best_period = min(best_period, this_period)\n",
    "                worst_period = max(worst_period, this_period)\n",
    "            last_found = flash_df[\"Millis\"][r]\n",
    "    best_period /= 1000\n",
    "    worst_period /= 1000\n",
    "            \n",
    "    average_period = (millis_dur / 1000) / sample_counts[i] \n",
    "    average_frequency = 1 / average_period \n",
    "    \n",
    "    entry = [col, sample_counts[i], round(average_frequency, 3), round(average_period, 3), best_period, worst_period]\n",
    "    \n",
    "    table_list.append(entry)\n",
    "\n",
    "table_list.append([\"By Device Average\"] + [round(np.mean([table_list[i][j] for i in range(1, len(table_list))]), 3) for j in range(1, len(table_list[0]))])\n",
    "table_list.append([\"By Device Min\"] + [round(np.min([table_list[i][j] for i in range(1, len(table_list))]), 3) for j in range(1, len(table_list[0]))])\n",
    "table_list.append([\"By Device Max\"] + [round(np.max([table_list[i][j] for i in range(1, len(table_list))]), 3) for j in range(1, len(table_list[0]))])\n",
    "\n",
    "\n",
    "print(\"Done.\")\n"
   ]
  },
  {
   "cell_type": "code",
   "execution_count": 4,
   "id": "7e756219",
   "metadata": {
    "scrolled": false
   },
   "outputs": [
    {
     "data": {
      "text/html": [
       "<table>\n",
       "<thead>\n",
       "<tr><th>Data Name               </th><th style=\"text-align: right;\">  Number of Samples</th><th style=\"text-align: right;\">  Average Sample Frequency (Hz)</th><th style=\"text-align: right;\">  Average Sample Period (s)</th><th style=\"text-align: right;\">  Best Sample Period (s)</th><th style=\"text-align: right;\">  Worst Sample Period (s)</th></tr>\n",
       "</thead>\n",
       "<tbody>\n",
       "<tr><td>Millis                  </td><td style=\"text-align: right;\">            18683  </td><td style=\"text-align: right;\">                          1    </td><td style=\"text-align: right;\">                      1    </td><td style=\"text-align: right;\">                   0.719</td><td style=\"text-align: right;\">                    1.647</td></tr>\n",
       "<tr><td>PCF8523 Year            </td><td style=\"text-align: right;\">            12454  </td><td style=\"text-align: right;\">                          0.667</td><td style=\"text-align: right;\">                      1.5  </td><td style=\"text-align: right;\">                   1.386</td><td style=\"text-align: right;\">                    2.312</td></tr>\n",
       "<tr><td>PCF8523 Month           </td><td style=\"text-align: right;\">            12454  </td><td style=\"text-align: right;\">                          0.667</td><td style=\"text-align: right;\">                      1.5  </td><td style=\"text-align: right;\">                   1.386</td><td style=\"text-align: right;\">                    2.312</td></tr>\n",
       "<tr><td>PCF8523 Day             </td><td style=\"text-align: right;\">            12454  </td><td style=\"text-align: right;\">                          0.667</td><td style=\"text-align: right;\">                      1.5  </td><td style=\"text-align: right;\">                   1.386</td><td style=\"text-align: right;\">                    2.312</td></tr>\n",
       "<tr><td>PCF8523 Hour            </td><td style=\"text-align: right;\">            12454  </td><td style=\"text-align: right;\">                          0.667</td><td style=\"text-align: right;\">                      1.5  </td><td style=\"text-align: right;\">                   1.386</td><td style=\"text-align: right;\">                    2.312</td></tr>\n",
       "<tr><td>PCF8523 Minute          </td><td style=\"text-align: right;\">            12454  </td><td style=\"text-align: right;\">                          0.667</td><td style=\"text-align: right;\">                      1.5  </td><td style=\"text-align: right;\">                   1.386</td><td style=\"text-align: right;\">                    2.312</td></tr>\n",
       "<tr><td>PCF8523 Second          </td><td style=\"text-align: right;\">            12454  </td><td style=\"text-align: right;\">                          0.667</td><td style=\"text-align: right;\">                      1.5  </td><td style=\"text-align: right;\">                   1.386</td><td style=\"text-align: right;\">                    2.312</td></tr>\n",
       "<tr><td>INA260 Current (mA)     </td><td style=\"text-align: right;\">            12454  </td><td style=\"text-align: right;\">                          0.667</td><td style=\"text-align: right;\">                      1.5  </td><td style=\"text-align: right;\">                   1.386</td><td style=\"text-align: right;\">                    2.312</td></tr>\n",
       "<tr><td>INA260 Voltage (mV)     </td><td style=\"text-align: right;\">            12454  </td><td style=\"text-align: right;\">                          0.667</td><td style=\"text-align: right;\">                      1.5  </td><td style=\"text-align: right;\">                   1.386</td><td style=\"text-align: right;\">                    2.312</td></tr>\n",
       "<tr><td>INA260 Power (mW)       </td><td style=\"text-align: right;\">            12454  </td><td style=\"text-align: right;\">                          0.667</td><td style=\"text-align: right;\">                      1.5  </td><td style=\"text-align: right;\">                   1.386</td><td style=\"text-align: right;\">                    2.312</td></tr>\n",
       "<tr><td>PicoTemp Temp (C)       </td><td style=\"text-align: right;\">            12454  </td><td style=\"text-align: right;\">                          0.667</td><td style=\"text-align: right;\">                      1.5  </td><td style=\"text-align: right;\">                   1.386</td><td style=\"text-align: right;\">                    2.312</td></tr>\n",
       "<tr><td>ICM20948 AccX (g)       </td><td style=\"text-align: right;\">            18683  </td><td style=\"text-align: right;\">                          1    </td><td style=\"text-align: right;\">                      1    </td><td style=\"text-align: right;\">                   0.719</td><td style=\"text-align: right;\">                    1.647</td></tr>\n",
       "<tr><td>ICM20948 AccY (g)       </td><td style=\"text-align: right;\">            18683  </td><td style=\"text-align: right;\">                          1    </td><td style=\"text-align: right;\">                      1    </td><td style=\"text-align: right;\">                   0.719</td><td style=\"text-align: right;\">                    1.647</td></tr>\n",
       "<tr><td>ICM20948 AccZ (g)       </td><td style=\"text-align: right;\">            18683  </td><td style=\"text-align: right;\">                          1    </td><td style=\"text-align: right;\">                      1    </td><td style=\"text-align: right;\">                   0.719</td><td style=\"text-align: right;\">                    1.647</td></tr>\n",
       "<tr><td>ICM20948 GyroX (deg/s)  </td><td style=\"text-align: right;\">            18683  </td><td style=\"text-align: right;\">                          1    </td><td style=\"text-align: right;\">                      1    </td><td style=\"text-align: right;\">                   0.719</td><td style=\"text-align: right;\">                    1.647</td></tr>\n",
       "<tr><td>ICM20948 GyroY (deg/s)  </td><td style=\"text-align: right;\">            18683  </td><td style=\"text-align: right;\">                          1    </td><td style=\"text-align: right;\">                      1    </td><td style=\"text-align: right;\">                   0.719</td><td style=\"text-align: right;\">                    1.647</td></tr>\n",
       "<tr><td>ICM20948 GyroZ (deg/s)  </td><td style=\"text-align: right;\">            18683  </td><td style=\"text-align: right;\">                          1    </td><td style=\"text-align: right;\">                      1    </td><td style=\"text-align: right;\">                   0.719</td><td style=\"text-align: right;\">                    1.647</td></tr>\n",
       "<tr><td>ICM20948 MagX (uT)      </td><td style=\"text-align: right;\">            18683  </td><td style=\"text-align: right;\">                          1    </td><td style=\"text-align: right;\">                      1    </td><td style=\"text-align: right;\">                   0.719</td><td style=\"text-align: right;\">                    1.647</td></tr>\n",
       "<tr><td>ICM20948 MagY (uT)      </td><td style=\"text-align: right;\">            18683  </td><td style=\"text-align: right;\">                          1    </td><td style=\"text-align: right;\">                      1    </td><td style=\"text-align: right;\">                   0.719</td><td style=\"text-align: right;\">                    1.647</td></tr>\n",
       "<tr><td>ICM20948 MagZ (uT)      </td><td style=\"text-align: right;\">            18683  </td><td style=\"text-align: right;\">                          1    </td><td style=\"text-align: right;\">                      1    </td><td style=\"text-align: right;\">                   0.719</td><td style=\"text-align: right;\">                    1.647</td></tr>\n",
       "<tr><td>ICM20948 Temp (C)       </td><td style=\"text-align: right;\">            18683  </td><td style=\"text-align: right;\">                          1    </td><td style=\"text-align: right;\">                      1    </td><td style=\"text-align: right;\">                   0.719</td><td style=\"text-align: right;\">                    1.647</td></tr>\n",
       "<tr><td>MTK3339 Year            </td><td style=\"text-align: right;\">             6227  </td><td style=\"text-align: right;\">                          0.333</td><td style=\"text-align: right;\">                      3    </td><td style=\"text-align: right;\">                   2.445</td><td style=\"text-align: right;\">                    3.152</td></tr>\n",
       "<tr><td>MTK3339 Month           </td><td style=\"text-align: right;\">             6227  </td><td style=\"text-align: right;\">                          0.333</td><td style=\"text-align: right;\">                      3    </td><td style=\"text-align: right;\">                   2.445</td><td style=\"text-align: right;\">                    3.152</td></tr>\n",
       "<tr><td>MTK3339 Day             </td><td style=\"text-align: right;\">             6227  </td><td style=\"text-align: right;\">                          0.333</td><td style=\"text-align: right;\">                      3    </td><td style=\"text-align: right;\">                   2.445</td><td style=\"text-align: right;\">                    3.152</td></tr>\n",
       "<tr><td>MTK3339 Hour            </td><td style=\"text-align: right;\">             6227  </td><td style=\"text-align: right;\">                          0.333</td><td style=\"text-align: right;\">                      3    </td><td style=\"text-align: right;\">                   2.445</td><td style=\"text-align: right;\">                    3.152</td></tr>\n",
       "<tr><td>MTK3339 Minute          </td><td style=\"text-align: right;\">             6227  </td><td style=\"text-align: right;\">                          0.333</td><td style=\"text-align: right;\">                      3    </td><td style=\"text-align: right;\">                   2.445</td><td style=\"text-align: right;\">                    3.152</td></tr>\n",
       "<tr><td>MTK3339 Second          </td><td style=\"text-align: right;\">             6227  </td><td style=\"text-align: right;\">                          0.333</td><td style=\"text-align: right;\">                      3    </td><td style=\"text-align: right;\">                   2.445</td><td style=\"text-align: right;\">                    3.152</td></tr>\n",
       "<tr><td>MTK3339 Latitude        </td><td style=\"text-align: right;\">             6227  </td><td style=\"text-align: right;\">                          0.333</td><td style=\"text-align: right;\">                      3    </td><td style=\"text-align: right;\">                   2.445</td><td style=\"text-align: right;\">                    3.152</td></tr>\n",
       "<tr><td>MTK3339 Longitude       </td><td style=\"text-align: right;\">             6227  </td><td style=\"text-align: right;\">                          0.333</td><td style=\"text-align: right;\">                      3    </td><td style=\"text-align: right;\">                   2.445</td><td style=\"text-align: right;\">                    3.152</td></tr>\n",
       "<tr><td>MTK3339 Speed           </td><td style=\"text-align: right;\">             6227  </td><td style=\"text-align: right;\">                          0.333</td><td style=\"text-align: right;\">                      3    </td><td style=\"text-align: right;\">                   2.445</td><td style=\"text-align: right;\">                    3.152</td></tr>\n",
       "<tr><td>MTK3339 Heading         </td><td style=\"text-align: right;\">             6227  </td><td style=\"text-align: right;\">                          0.333</td><td style=\"text-align: right;\">                      3    </td><td style=\"text-align: right;\">                   2.445</td><td style=\"text-align: right;\">                    3.152</td></tr>\n",
       "<tr><td>MTK3339 Altitude        </td><td style=\"text-align: right;\">             6227  </td><td style=\"text-align: right;\">                          0.333</td><td style=\"text-align: right;\">                      3    </td><td style=\"text-align: right;\">                   2.445</td><td style=\"text-align: right;\">                    3.152</td></tr>\n",
       "<tr><td>MTK3339 Satellites      </td><td style=\"text-align: right;\">             6227  </td><td style=\"text-align: right;\">                          0.333</td><td style=\"text-align: right;\">                      3    </td><td style=\"text-align: right;\">                   2.445</td><td style=\"text-align: right;\">                    3.152</td></tr>\n",
       "<tr><td>BMP390 Temp (C)         </td><td style=\"text-align: right;\">            18683  </td><td style=\"text-align: right;\">                          1    </td><td style=\"text-align: right;\">                      1    </td><td style=\"text-align: right;\">                   0.719</td><td style=\"text-align: right;\">                    1.647</td></tr>\n",
       "<tr><td>BMP390 Pressure (Pa)    </td><td style=\"text-align: right;\">            18683  </td><td style=\"text-align: right;\">                          1    </td><td style=\"text-align: right;\">                      1    </td><td style=\"text-align: right;\">                   0.719</td><td style=\"text-align: right;\">                    1.647</td></tr>\n",
       "<tr><td>BMP390 Altitude (m)     </td><td style=\"text-align: right;\">            18683  </td><td style=\"text-align: right;\">                          1    </td><td style=\"text-align: right;\">                      1    </td><td style=\"text-align: right;\">                   0.719</td><td style=\"text-align: right;\">                    1.647</td></tr>\n",
       "<tr><td>TMP117 Temp (C)         </td><td style=\"text-align: right;\">            18683  </td><td style=\"text-align: right;\">                          1    </td><td style=\"text-align: right;\">                      1    </td><td style=\"text-align: right;\">                   0.719</td><td style=\"text-align: right;\">                    1.647</td></tr>\n",
       "<tr><td>SHTC3 Temp (C)          </td><td style=\"text-align: right;\">            12455  </td><td style=\"text-align: right;\">                          0.667</td><td style=\"text-align: right;\">                      1.5  </td><td style=\"text-align: right;\">                   0.747</td><td style=\"text-align: right;\">                    2.386</td></tr>\n",
       "<tr><td>SHTC3 Rel Hum (%)       </td><td style=\"text-align: right;\">            12455  </td><td style=\"text-align: right;\">                          0.667</td><td style=\"text-align: right;\">                      1.5  </td><td style=\"text-align: right;\">                   0.747</td><td style=\"text-align: right;\">                    2.386</td></tr>\n",
       "<tr><td>Ozone Conc (ppb)        </td><td style=\"text-align: right;\">            18683  </td><td style=\"text-align: right;\">                          1    </td><td style=\"text-align: right;\">                      1    </td><td style=\"text-align: right;\">                   0.719</td><td style=\"text-align: right;\">                    1.647</td></tr>\n",
       "<tr><td>SCD40_O CO2 Conc_O (ppm)</td><td style=\"text-align: right;\">             3920  </td><td style=\"text-align: right;\">                          0.21 </td><td style=\"text-align: right;\">                      4.766</td><td style=\"text-align: right;\">                   3.69 </td><td style=\"text-align: right;\">                    6.083</td></tr>\n",
       "<tr><td>SCD40_O Temp_O (C)      </td><td style=\"text-align: right;\">             3920  </td><td style=\"text-align: right;\">                          0.21 </td><td style=\"text-align: right;\">                      4.766</td><td style=\"text-align: right;\">                   3.69 </td><td style=\"text-align: right;\">                    6.083</td></tr>\n",
       "<tr><td>SCD40_O Rel Hum_O (%)   </td><td style=\"text-align: right;\">             3920  </td><td style=\"text-align: right;\">                          0.21 </td><td style=\"text-align: right;\">                      4.766</td><td style=\"text-align: right;\">                   3.69 </td><td style=\"text-align: right;\">                    6.083</td></tr>\n",
       "<tr><td>TMP117_O Temp_O (C)     </td><td style=\"text-align: right;\">            18683  </td><td style=\"text-align: right;\">                          1    </td><td style=\"text-align: right;\">                      1    </td><td style=\"text-align: right;\">                   0.719</td><td style=\"text-align: right;\">                    1.647</td></tr>\n",
       "<tr><td>SHTC3_O Temp_O (C)      </td><td style=\"text-align: right;\">            12455  </td><td style=\"text-align: right;\">                          0.667</td><td style=\"text-align: right;\">                      1.5  </td><td style=\"text-align: right;\">                   0.747</td><td style=\"text-align: right;\">                    2.386</td></tr>\n",
       "<tr><td>SHTC3_O Rel_Hum_O (%)   </td><td style=\"text-align: right;\">            12455  </td><td style=\"text-align: right;\">                          0.667</td><td style=\"text-align: right;\">                      1.5  </td><td style=\"text-align: right;\">                   0.747</td><td style=\"text-align: right;\">                    2.386</td></tr>\n",
       "<tr><td>ENS160_O AQI_O          </td><td style=\"text-align: right;\">            15093  </td><td style=\"text-align: right;\">                          0.808</td><td style=\"text-align: right;\">                      1.238</td><td style=\"text-align: right;\">                   0.722</td><td style=\"text-align: right;\">                    2.328</td></tr>\n",
       "<tr><td>ENS160_O TVOC_O (ppb)   </td><td style=\"text-align: right;\">            15093  </td><td style=\"text-align: right;\">                          0.808</td><td style=\"text-align: right;\">                      1.238</td><td style=\"text-align: right;\">                   0.722</td><td style=\"text-align: right;\">                    2.328</td></tr>\n",
       "<tr><td>ENS160_O eCO2_O (ppm)   </td><td style=\"text-align: right;\">            15093  </td><td style=\"text-align: right;\">                          0.808</td><td style=\"text-align: right;\">                      1.238</td><td style=\"text-align: right;\">                   0.722</td><td style=\"text-align: right;\">                    2.328</td></tr>\n",
       "<tr><td>By Device Average       </td><td style=\"text-align: right;\">            12729.3</td><td style=\"text-align: right;\">                          0.681</td><td style=\"text-align: right;\">                      1.878</td><td style=\"text-align: right;\">                   1.462</td><td style=\"text-align: right;\">                    2.525</td></tr>\n",
       "<tr><td>By Device Min           </td><td style=\"text-align: right;\">             3920  </td><td style=\"text-align: right;\">                          0.21 </td><td style=\"text-align: right;\">                      1    </td><td style=\"text-align: right;\">                   0.719</td><td style=\"text-align: right;\">                    1.647</td></tr>\n",
       "<tr><td>By Device Max           </td><td style=\"text-align: right;\">            18683  </td><td style=\"text-align: right;\">                          1    </td><td style=\"text-align: right;\">                      4.766</td><td style=\"text-align: right;\">                   3.69 </td><td style=\"text-align: right;\">                    6.083</td></tr>\n",
       "</tbody>\n",
       "</table>"
      ],
      "text/plain": [
       "<IPython.core.display.HTML object>"
      ]
     },
     "metadata": {},
     "output_type": "display_data"
    }
   ],
   "source": [
    "table_html = tabulate(\n",
    "    table_list,\n",
    "    tablefmt=\"html\",\n",
    "    headers=\"firstrow\"\n",
    ")\n",
    "\n",
    "display(HTML(table_html))"
   ]
  },
  {
   "cell_type": "code",
   "execution_count": null,
   "id": "9799635b",
   "metadata": {},
   "outputs": [],
   "source": [
    "\n"
   ]
  }
 ],
 "metadata": {
  "kernelspec": {
   "display_name": "Python 3 (ipykernel)",
   "language": "python",
   "name": "python3"
  },
  "language_info": {
   "codemirror_mode": {
    "name": "ipython",
    "version": 3
   },
   "file_extension": ".py",
   "mimetype": "text/x-python",
   "name": "python",
   "nbconvert_exporter": "python",
   "pygments_lexer": "ipython3",
   "version": "3.9.13"
  }
 },
 "nbformat": 4,
 "nbformat_minor": 5
}
